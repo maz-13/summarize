{
  "nbformat": 4,
  "nbformat_minor": 0,
  "metadata": {
    "colab": {
      "name": "Summarize.ipynb",
      "provenance": [],
      "collapsed_sections": []
    },
    "kernelspec": {
      "name": "python3",
      "display_name": "Python 3"
    }
  },
  "cells": [
    {
      "cell_type": "code",
      "metadata": {
        "id": "bDaxbktoE86_",
        "colab_type": "code",
        "colab": {}
      },
      "source": [
        "# Description: This program aims to scrape and summarize news articles"
      ],
      "execution_count": 1,
      "outputs": []
    },
    {
      "cell_type": "code",
      "metadata": {
        "id": "F2tNuWENFdcV",
        "colab_type": "code",
        "colab": {}
      },
      "source": [
        "#Install\n",
        "!pip install nltk\n",
        "!pip install newspaper3k"
      ],
      "execution_count": null,
      "outputs": []
    },
    {
      "cell_type": "code",
      "metadata": {
        "id": "DjATHPhDFi0P",
        "colab_type": "code",
        "colab": {}
      },
      "source": [
        "#Import the libraries\n",
        "import nltk\n",
        "from newspaper import Article\n",
        "import textwrap"
      ],
      "execution_count": 3,
      "outputs": []
    },
    {
      "cell_type": "code",
      "metadata": {
        "id": "tQfpB2f2F1sD",
        "colab_type": "code",
        "colab": {
          "base_uri": "https://localhost:8080/",
          "height": 52
        },
        "outputId": "e100ee25-9b42-4617-ce8f-2c428a6e2521"
      },
      "source": [
        "#Get the article\n",
        "url = input('Enter the URL of the article: \\n')\n",
        "article = Article(url)"
      ],
      "execution_count": 4,
      "outputs": [
        {
          "output_type": "stream",
          "text": [
            "Enter the URL of the article: \n",
            "https://www.nytimes.com/2020/07/26/us/politics/coronavirus-stimulus-bill-unemployment.html\n"
          ],
          "name": "stdout"
        }
      ]
    },
    {
      "cell_type": "code",
      "metadata": {
        "id": "lMguYsiqGTZo",
        "colab_type": "code",
        "colab": {}
      },
      "source": [
        "#Do some Natural Language Processing\n",
        "article.download()\n",
        "article.parse()\n",
        "nltk.download('punkt')\n",
        "article.nlp()"
      ],
      "execution_count": null,
      "outputs": []
    },
    {
      "cell_type": "code",
      "metadata": {
        "id": "tCoqbSJjNyaI",
        "colab_type": "code",
        "colab": {}
      },
      "source": [
        "#Get title\n",
        "title = article.title"
      ],
      "execution_count": 6,
      "outputs": []
    },
    {
      "cell_type": "code",
      "metadata": {
        "id": "SrGGjTx3HD4T",
        "colab_type": "code",
        "colab": {}
      },
      "source": [
        "#Get the author/s of the article\n",
        "authors = article.authors"
      ],
      "execution_count": 7,
      "outputs": []
    },
    {
      "cell_type": "code",
      "metadata": {
        "id": "JeHT1Rm6HbBQ",
        "colab_type": "code",
        "colab": {}
      },
      "source": [
        "#Get the pubplished date\n",
        "date = article.publish_date"
      ],
      "execution_count": 8,
      "outputs": []
    },
    {
      "cell_type": "code",
      "metadata": {
        "id": "G7g787PrKZW8",
        "colab_type": "code",
        "colab": {}
      },
      "source": [
        "#Get the article's text\n",
        "#print(article.text)"
      ],
      "execution_count": 9,
      "outputs": []
    },
    {
      "cell_type": "code",
      "metadata": {
        "id": "Kf-0H2v-KtJu",
        "colab_type": "code",
        "colab": {}
      },
      "source": [
        "#Get a summary of the article\n",
        "summary = article.summary"
      ],
      "execution_count": 10,
      "outputs": []
    },
    {
      "cell_type": "code",
      "metadata": {
        "id": "Cx6CVNZqND7D",
        "colab_type": "code",
        "colab": {
          "base_uri": "https://localhost:8080/",
          "height": 584
        },
        "outputId": "ec3f7d73-daf7-4365-b94c-0213ae06c50f"
      },
      "source": [
        "#Final output\n",
        "print()\n",
        "print(title)\n",
        "print()\n",
        "\n",
        "if len(authors)>1:\n",
        "  print('By',', '.join(authors))\n",
        "else:\n",
        "  print(\"Author's name not found\")\n",
        "\n",
        "try:\n",
        "  print(date.strftime(\"%x\"))\n",
        "except:\n",
        "  print(\"Date not found\")\n",
        "print()\n",
        "\n",
        "# Wrap the summary. \n",
        "wrapper = textwrap.TextWrapper(width=100)   \n",
        "word_list = wrapper.wrap(text=summary) \n",
        "  \n",
        "# Print each line from summary \n",
        "for element in word_list: \n",
        "    print(element) \n",
        "\n",
        "print()\n",
        "try:\n",
        "  #Get the top image\n",
        "  image = article.top_image\n",
        "  from IPython.display import Image\n",
        "  display(Image(url=image, width = 500, unconfined= True))\n",
        "except:\n",
        "  print('Unable to display image')"
      ],
      "execution_count": 11,
      "outputs": [
        {
          "output_type": "stream",
          "text": [
            "\n",
            "Trump Officials Float Idea of Narrow Bill to Extend Unemployment Benefits\n",
            "\n",
            "By Nicholas Fandos, Emily Cochrane\n",
            "07/26/20\n",
            "\n",
            "In addition to the unemployment benefits change and liability protections, the Republican\n",
            "legislation is expected to include $105 billion for schools and billions of dollars more for\n",
            "testing, contact tracing and vaccine distribution. The largest sticking point, though, has been the\n",
            "effort to scale back unemployment insurance benefits. “The original unemployment benefits actually\n",
            "paid people to stay home, and actually a lot of people got more money staying at home than they\n",
            "would going back to work,” Mr. Meadows said on Sunday. When Democrats in March proposed matching 100\n",
            "percent of a worker’s prior income, Labor Department officials said that antiquated state\n",
            "unemployment systems would make it too complicated to execute. Even though the benefits program is\n",
            "set to expire at the end of July, workers in most states are already losing access to the expanded\n",
            "unemployment payments.\n",
            "\n"
          ],
          "name": "stdout"
        },
        {
          "output_type": "display_data",
          "data": {
            "text/html": [
              "<img src=\"https://static01.nyt.com/images/2020/07/26/us/politics/26dc-virus-cong/26dc-virus-cong-facebookJumbo.jpg\" width=\"500\" class=\"unconfined\"/>"
            ],
            "text/plain": [
              "<IPython.core.display.Image object>"
            ]
          },
          "metadata": {
            "tags": []
          }
        }
      ]
    }
  ]
}